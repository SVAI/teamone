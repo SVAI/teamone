{
 "cells": [
  {
   "cell_type": "code",
   "execution_count": 1,
   "metadata": {},
   "outputs": [],
   "source": [
    "# import statements\n",
    "import matplotlib.pyplot as plt\n",
    "import pandas as pd\n",
    "import seaborn as sns\n",
    "import numpy as np\n",
    "import sklearn\n",
    "from sklearn import metrics\n",
    "from sklearn.model_selection import train_test_split\n",
    "\n",
    "from sklearn.ensemble import RandomForestRegressor\n",
    "from sklearn.neighbors import KNeighborsRegressor\n",
    "from sklearn.svm import LinearSVR"
   ]
  },
  {
   "cell_type": "code",
   "execution_count": null,
   "metadata": {},
   "outputs": [],
   "source": [
    "X = ###\n",
    "nsamples, nx, ny = X.shape\n",
    "X = X.reshape((nsamples,nx*ny))"
   ]
  },
  {
   "cell_type": "code",
   "execution_count": null,
   "metadata": {},
   "outputs": [],
   "source": [
    "auc_values = ###\n",
    "ic50_values = ###"
   ]
  },
  {
   "cell_type": "code",
   "execution_count": null,
   "metadata": {},
   "outputs": [],
   "source": [
    "# Using Skicit-learn to split data into training and testing sets\n",
    "# Split the data into training and testing sets\n",
    "train_ft_auc, test_ft_auc, train_lab_auc, test_lab_auc = train_test_split(X, auc_values, test_size = 0.3, random_state = 0)\n",
    "train_ft_ic50, test_ft_ic50, train_lab_ic50, test_lab_ic50 = train_test_split(X, ic50_values, test_size = 0.3, random_state = 0)\n"
   ]
  },
  {
   "cell_type": "code",
   "execution_count": null,
   "metadata": {},
   "outputs": [],
   "source": [
    "# compute metrics\n",
    "def compute_regression_metrics(y_true_labels, y_pred_labels): \n",
    "    r2 = sklearn.metrics.r2_score(y_true_labels, y_pred_labels)\n",
    "    mae = sklearn.metrics.mean_absolute_error(y_true_labels, y_pred_labels)\n",
    "    mse = sklearn.metrics.mean_squared_error(y_true_labels, y_pred_labels)\n",
    "    expl_var = sklearn.metrics.explained_variance_score(y_true_labels, y_pred_labels)\n",
    "\n",
    "    print(\"R2: \", r2)\n",
    "    print(\"MAE: \", mae)\n",
    "    print(\"MSE: \", mse)\n",
    "    print(\"Explained Variance: \", expl_var)"
   ]
  },
  {
   "cell_type": "markdown",
   "metadata": {},
   "source": [
    "## Part A: Random Forest Regressor"
   ]
  },
  {
   "cell_type": "code",
   "execution_count": null,
   "metadata": {},
   "outputs": [],
   "source": [
    "clf = RandomForestRegressor(n_estimators=1000, random_state=0, oob_score = True)\n",
    "clf.fit(train_ft_auc, train_lab_auc)  \n",
    "y_pred=clf.predict(test_ft_auc)\n",
    "print(\"Prediction metrics\")\n",
    "compute_regression_metrics(test_lab_auc, y_pred)"
   ]
  },
  {
   "cell_type": "code",
   "execution_count": null,
   "metadata": {},
   "outputs": [],
   "source": [
    "clf = RandomForestRegressor(n_estimators=1000, random_state=0, oob_score = True)\n",
    "clf.fit(train_ft_ic50, train_lab_ic50)  \n",
    "y_pred=clf.predict(test_ft_ic50)\n",
    "print(\"Prediction metrics\")\n",
    "compute_regression_metrics(test_lab_ic50, y_pred)"
   ]
  },
  {
   "cell_type": "markdown",
   "metadata": {},
   "source": [
    "## Part B: KNN Regressor"
   ]
  },
  {
   "cell_type": "code",
   "execution_count": null,
   "metadata": {},
   "outputs": [],
   "source": [
    "knn = KNeighborsRegressor(algorithm = 'ball_tree')\n",
    "knn.fit(train_ft_auc, train_lab_auc) \n",
    "y_pred = knn.predict(test_ft_auc)\n",
    "print(\"Prediction metrics\")\n",
    "compute_regression_metrics(test_lab_auc, y_pred)"
   ]
  },
  {
   "cell_type": "code",
   "execution_count": null,
   "metadata": {},
   "outputs": [],
   "source": [
    "knn = KNeighborsRegressor(algorithm = 'ball_tree')\n",
    "knn.fit(train_ft_ic50, train_lab_ic50) \n",
    "y_pred = knn.predict(test_ft_ic50)\n",
    "print(\"Prediction metrics\")\n",
    "compute_regression_metrics(test_lab_ic50, y_pred)"
   ]
  },
  {
   "cell_type": "markdown",
   "metadata": {},
   "source": [
    "## Part C: Linear Support Vector Regressor"
   ]
  },
  {
   "cell_type": "code",
   "execution_count": null,
   "metadata": {},
   "outputs": [],
   "source": [
    "#clf = LinearSVC(random_state=0, max_iter=5000)\n",
    "clf = LinearSVR(random_state=0, max_iter=1000)\n",
    "clf.fit(train_ft_auc, train_lab_auc) \n",
    "y_pred = knn.predict(test_ft_auc)\n",
    "print(\"Prediction metrics\")\n",
    "compute_regression_metrics(test_lab_auc, y_pred)"
   ]
  },
  {
   "cell_type": "code",
   "execution_count": null,
   "metadata": {},
   "outputs": [],
   "source": [
    "#clf = LinearSVC(random_state=0, max_iter=5000)\n",
    "clf = LinearSVR(random_state=0, max_iter=1000)\n",
    "clf.fit(train_ft_ic50, train_lab_ic50) \n",
    "y_pred = knn.predict(test_ft_ic50)\n",
    "print(\"Prediction metrics\")\n",
    "compute_regression_metrics(test_lab_ic50, y_pred)"
   ]
  }
 ],
 "metadata": {
  "kernelspec": {
   "display_name": "Python 3",
   "language": "python",
   "name": "python3"
  },
  "language_info": {
   "codemirror_mode": {
    "name": "ipython",
    "version": 3
   },
   "file_extension": ".py",
   "mimetype": "text/x-python",
   "name": "python",
   "nbconvert_exporter": "python",
   "pygments_lexer": "ipython3",
   "version": "3.7.1"
  }
 },
 "nbformat": 4,
 "nbformat_minor": 2
}
