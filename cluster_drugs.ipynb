{
 "cells": [
  {
   "cell_type": "markdown",
   "metadata": {},
   "source": [
    "# Part 0: Import Statements"
   ]
  },
  {
   "cell_type": "code",
   "execution_count": 2,
   "metadata": {},
   "outputs": [],
   "source": [
    "# import stats + sklearn classifiers + regressors\n",
    "import matplotlib.pyplot as plt\n",
    "import pandas as pd\n",
    "import seaborn as sns\n",
    "import numpy as np\n",
    "import sklearn\n",
    "from sklearn import metrics\n",
    "from sklearn.model_selection import train_test_split\n",
    "\n",
    "from sklearn.ensemble import RandomForestRegressor\n",
    "from sklearn.neighbors import KNeighborsRegressor\n",
    "from sklearn.svm import LinearSVR\n",
    "\n",
    "from sklearn.ensemble import RandomForestClassifier\n",
    "from sklearn.neighbors import KNeighborsClassifier\n",
    "from sklearn.svm import LinearSVC\n",
    "\n",
    "#!pip3 install pydot\n",
    "import pydot\n",
    "from sklearn import *"
   ]
  },
  {
   "cell_type": "markdown",
   "metadata": {},
   "source": [
    "# Part 1: Read and parse data"
   ]
  },
  {
   "cell_type": "code",
   "execution_count": 3,
   "metadata": {},
   "outputs": [
    {
     "name": "stdout",
     "output_type": "stream",
     "text": [
      "     0    1    2      3    4           5    6    7     8    9     10  \\\n",
      "0  1.0  0.0  0.0  734.0  1.0  344.089603  7.0  3.0  25.0  0.0  344.3   \n",
      "1  1.0  0.0  0.0  633.0  1.0  354.183109  4.0  1.0  26.0  0.0  354.4   \n",
      "2  1.0  0.0  0.0  497.0  1.0  292.121178  3.0  1.0  22.0  0.0  292.3   \n",
      "3  0.0  0.0  0.0  780.0  1.0  518.194068  8.0  6.0  38.0  0.0  518.6   \n",
      "4  2.0  0.0  0.0  415.0  1.0  301.179027  3.0  3.0  22.0  0.0  301.4   \n",
      "\n",
      "           11   12     13   14  \n",
      "0  344.089603  2.0  121.0  2.1  \n",
      "1  354.183109  8.0   71.4  4.4  \n",
      "2  292.121178  1.0   52.9  2.4  \n",
      "3  518.194068  5.0  156.0  6.9  \n",
      "4  301.179027  2.0   68.4  2.3  \n",
      "1784\n",
      "15\n"
     ]
    }
   ],
   "source": [
    "# read in data and get the size of the data set\n",
    "X = pd.read_csv('drug_properties_final.csv', header=0, usecols=range(1,16))\n",
    "print(X.head(5))\n",
    "nsamples, nfts = X.shape\n",
    "print(nsamples)\n",
    "print(nfts)"
   ]
  },
  {
   "cell_type": "code",
   "execution_count": 4,
   "metadata": {
    "scrolled": true
   },
   "outputs": [],
   "source": [
    "# get the names of the drugs we are looking at\n",
    "drugs = pd.read_csv('drug_name_list_final.csv', header=0, usecols=range(1,2))\n",
    "#drugs"
   ]
  },
  {
   "cell_type": "code",
   "execution_count": 5,
   "metadata": {
    "scrolled": true
   },
   "outputs": [],
   "source": [
    "# there are more drugs that have max response and auc data since not all drugs were \n",
    "# accessible in pubchem- so load that bigger set of drugs\n",
    "drugs_with_resp_auc_data = pd.read_csv('drugs.csv', usecols = range(1,2))\n",
    "#drugs_with_resp_auc_data"
   ]
  },
  {
   "cell_type": "code",
   "execution_count": 6,
   "metadata": {},
   "outputs": [],
   "source": [
    "# get the proper indexes from the set of all drugs to map to the pubchem drugs \n",
    "indexes = []\n",
    "counter = 0\n",
    "for drug in drugs_with_resp_auc_data.iloc[:,0]:\n",
    "    if drug in list(drugs.iloc[:,0]):\n",
    "        indexes.append(counter)\n",
    "    counter = counter + 1"
   ]
  },
  {
   "cell_type": "code",
   "execution_count": 7,
   "metadata": {},
   "outputs": [
    {
     "name": "stdout",
     "output_type": "stream",
     "text": [
      "         0        1        2        3        4        5\n",
      "0  428.792  460.119  277.164  443.183  408.479  408.348\n",
      "1  466.491  494.689  477.969  580.252  445.541  490.083\n",
      "2  413.997  261.922  438.649  360.282  417.510  322.348\n",
      "3  473.658  514.225  391.226  472.357  455.033  483.530\n",
      "4  499.085  454.862  284.317  498.955  490.830  436.067\n",
      "         0        1       2        3       4        5\n",
      "0   31.627   50.723  39.010   62.477  53.749   73.943\n",
      "1  104.528  106.693  94.311  120.259  79.373  105.277\n",
      "2   94.854   15.955  91.379   82.129  87.158   66.432\n",
      "3   63.828   74.488  49.955  101.986  88.269   92.542\n",
      "4    5.796    8.253  14.334   89.583  72.228   47.565\n"
     ]
    }
   ],
   "source": [
    "# get values for auc\n",
    "auc_values = pd.read_csv('auc.csv')\n",
    "auc_values = auc_values.iloc[:,1:7]\n",
    "print(auc_values.head(5))\n",
    "\n",
    "# get values for max resp\n",
    "maxresp_values = pd.read_csv('max_resp.csv')\n",
    "maxresp_values = maxresp_values.iloc[:,1:7]\n",
    "print(maxresp_values.head(5))"
   ]
  },
  {
   "cell_type": "code",
   "execution_count": 8,
   "metadata": {},
   "outputs": [
    {
     "name": "stdout",
     "output_type": "stream",
     "text": [
      "            0        1        2        3        4        5\n",
      "1     466.491  494.689  477.969  580.252  445.541  490.083\n",
      "2     413.997  261.922  438.649  360.282  417.510  322.348\n",
      "3     473.658  514.225  391.226  472.357  455.033  483.530\n",
      "4     499.085  454.862  284.317  498.955  490.830  436.067\n",
      "5     439.192  464.651  441.677  496.490  482.966  438.622\n",
      "6     444.042  507.567  487.697  473.677  337.470  371.668\n",
      "7     453.739  466.528  386.022  412.972  410.137  422.828\n",
      "8     248.701  322.929  362.261  299.505  290.917  273.682\n",
      "9     468.376  456.636  207.428  425.188  439.731  444.202\n",
      "10    479.920  458.372  234.410  453.171  445.012  474.465\n",
      "11    508.541  501.774  476.485  556.192  478.471  528.478\n",
      "12    460.677  481.198  486.335  474.319  432.789  458.532\n",
      "13    558.791  529.796  526.594  572.759  547.693  529.938\n",
      "15    480.426  496.298  475.607  581.248  548.532  409.708\n",
      "18    285.296  321.411  320.884  356.004  298.973  286.425\n",
      "19    471.813  514.940  478.022  561.303  495.328  498.695\n",
      "20    464.425  466.559  458.823  451.238  425.418  422.915\n",
      "21    493.138  488.390  482.273  450.930  449.837  329.544\n",
      "22    507.789  511.357  399.527  458.249  462.799  511.793\n",
      "23    249.042  391.601  246.617  410.454  406.570  518.155\n",
      "24    488.652  514.465  486.311  391.683  481.118  433.896\n",
      "26    551.776  509.135  506.784  521.423  525.736  514.764\n",
      "27    344.194  419.749  261.923  378.841  317.005  283.638\n",
      "28    469.655  493.587  513.039  520.439  492.428  485.417\n",
      "29    530.880  473.149  259.031  531.893  506.595  501.432\n",
      "30    495.816  472.499  453.471  475.209  480.489  481.548\n",
      "31    531.945  467.044  428.649  520.786  536.004  481.480\n",
      "32    482.464  431.985  431.319  480.066  491.739  432.242\n",
      "33    515.136  505.094  497.914  342.380  476.101  457.801\n",
      "34    429.511  441.334  407.635  556.346  420.235  371.642\n",
      "...       ...      ...      ...      ...      ...      ...\n",
      "1875  431.896  487.714  489.293  557.146  485.263  521.578\n",
      "1876  484.263  513.050  437.964  392.816  372.727  441.571\n",
      "1877  466.555  470.025  416.427  490.566  447.432  414.390\n",
      "1878  417.993  281.387  220.936  476.883  438.220  374.896\n",
      "1879  393.811  422.793  407.237  284.158  407.765  332.455\n",
      "1880  434.189  463.128  464.194  438.603  431.918  331.609\n",
      "1881  509.722  467.971  466.576  417.331  445.074  454.388\n",
      "1882  476.023  472.596  465.706  466.006  459.464  436.253\n",
      "1883  483.136  501.815  461.833  455.865  447.498  444.992\n",
      "1884  534.539  515.948  513.254  484.429  470.378  467.469\n",
      "1885  473.961  490.705  489.638  574.090  487.416  299.362\n",
      "1886  499.552  488.387  472.685  488.933  501.672  429.220\n",
      "1887  497.714  521.178  488.750  500.099  430.580  400.146\n",
      "1888  518.135  502.817  500.992  479.871  478.250  440.606\n",
      "1889  521.301  523.443  508.182  498.749  479.551  440.455\n",
      "1890  509.852  467.553  480.373  510.211  498.185  474.507\n",
      "1891  571.867  485.800  495.040  554.251  517.184  545.057\n",
      "1892  510.624  539.194  515.829  559.198  533.291  493.943\n",
      "1893  518.613  473.134  457.797  455.011  443.277  398.264\n",
      "1894  511.656  533.058  415.421  551.065  494.993  490.467\n",
      "1895  495.874  490.260  471.014  494.238  485.051  439.651\n",
      "1896  527.247  483.709  469.452  539.277  515.733  562.196\n",
      "1897  454.960  464.728  444.749  458.450  450.622  370.030\n",
      "1898  407.638  406.537  230.744  488.550  409.117  412.183\n",
      "1899  547.131  513.687  492.816  525.287  509.459  496.810\n",
      "1900  494.093  526.247  488.039  568.761  517.912  553.110\n",
      "1901      NaN      NaN      NaN      NaN      NaN      NaN\n",
      "1902  451.037  486.094  475.552  466.789  444.993  439.958\n",
      "1903  458.061  455.433  458.342  468.829  450.086  427.271\n",
      "1904  456.794  365.835  477.732  541.092  481.313  475.837\n",
      "\n",
      "[1784 rows x 6 columns]\n",
      "            0        1        2        3        4        5\n",
      "1     104.528  106.693   94.311  120.259   79.373  105.277\n",
      "2      94.854   15.955   91.379   82.129   87.158   66.432\n",
      "3      63.828   74.488   49.955  101.986   88.269   92.542\n",
      "4       5.796    8.253   14.334   89.583   72.228   47.565\n",
      "5      90.842  103.573   94.574   83.406  104.852   92.665\n",
      "6      24.866   59.871   41.696   27.641    6.727   10.808\n",
      "7      43.061   66.320   43.485   50.470   45.625   66.328\n",
      "8      12.125   13.910   34.232   26.325   19.924   18.893\n",
      "9      82.218   59.182   15.647   95.492   93.770   95.333\n",
      "10     63.090   64.014   12.650  100.952   96.531   92.651\n",
      "11     86.346   84.898   88.117   87.516   74.786   79.631\n",
      "12    103.639  103.949  108.658   91.037   84.503   98.370\n",
      "13    105.819   87.217   77.246   48.710  110.385  107.234\n",
      "15    104.616  107.339  106.545  117.125  120.934   97.405\n",
      "18     10.864   46.194    4.812   33.114   24.629   24.467\n",
      "19     97.241  105.436   83.701  120.006  104.174  101.999\n",
      "20     51.625   67.846   51.265   46.546   34.587   44.230\n",
      "21     98.479   96.281   96.457   89.892   82.393   64.589\n",
      "22     94.993  102.250   79.429   98.930   93.705  104.253\n",
      "23      5.619   30.249   30.497   33.857   52.163   62.948\n",
      "24     98.229  105.379   94.256   63.562   91.088   79.649\n",
      "26    109.757  105.377   99.145   90.017  101.603   98.191\n",
      "27     44.903   66.228   42.441   65.988   75.577   60.693\n",
      "28     90.876   96.033  102.744  102.480   97.132   96.769\n",
      "29    106.834   97.752   54.059   66.716  112.705   94.871\n",
      "30    100.295  100.406   90.084   84.135   91.146   99.999\n",
      "31     77.161   89.739   96.358  120.742   94.040   87.267\n",
      "32     22.045   38.234   90.490   66.240   66.764   49.085\n",
      "33     99.104  102.024   99.879   50.357   83.083   74.023\n",
      "34     99.872  101.954   33.348  115.766   43.327   59.395\n",
      "...       ...      ...      ...      ...      ...      ...\n",
      "1875  100.170  109.211  101.092  114.692  109.138  101.547\n",
      "1876   41.013   84.906   35.913   12.246   19.792   55.406\n",
      "1877   71.353   84.443   67.234   79.771   72.980   79.021\n",
      "1878   58.784   57.156   25.475   79.693   84.832   61.882\n",
      "1879   10.284   57.618    3.864   35.867   83.656   61.878\n",
      "1880   91.050   99.393  103.726   38.015   95.722   69.268\n",
      "1881   86.575   89.144   83.698   53.279   79.093   86.118\n",
      "1882   99.908  101.590   96.723   32.460   86.217   87.582\n",
      "1883  100.745  107.563  103.813   93.594  101.010   94.192\n",
      "1884  106.516  101.704   95.235   82.600   80.417   81.093\n",
      "1885   96.034  102.758  113.978   88.211  103.393   67.363\n",
      "1886  108.383  101.866   93.638   95.973   97.253   92.516\n",
      "1887   96.814   98.093   97.689   31.299    8.583    5.449\n",
      "1888   92.654   95.641   97.151   87.785   89.946   67.763\n",
      "1889  105.474  105.607  109.215  100.124   98.460   92.450\n",
      "1890   98.781   99.555  101.000   95.637   94.696   80.855\n",
      "1891  101.409   67.009   76.439  105.181   91.585   95.201\n",
      "1892   88.936  103.844   98.361  112.495  100.767   88.660\n",
      "1893   60.100   66.391   47.789   36.551   29.798   17.921\n",
      "1894   28.662   82.472   66.449  109.376   73.404   75.010\n",
      "1895  105.610   94.773   89.011   95.502   99.752   83.418\n",
      "1896  103.877   92.326   92.374  122.244  105.598  112.670\n",
      "1897   94.540   92.098   83.821  107.056   85.110   70.842\n",
      "1898   20.757   32.874   13.156   45.321   31.007   38.145\n",
      "1899  106.506  105.765  103.459   94.452  110.567  112.007\n",
      "1900   98.347  102.490   83.123  101.076  107.955  107.350\n",
      "1901      NaN      NaN      NaN      NaN      NaN      NaN\n",
      "1902  104.880  109.241  111.146  101.299   96.001   95.924\n",
      "1903   95.284  105.921   95.623   79.961   94.066   89.141\n",
      "1904    6.917   63.743   20.440   71.719   74.518   63.974\n",
      "\n",
      "[1784 rows x 6 columns]\n"
     ]
    }
   ],
   "source": [
    "# get the re-indexed set of drugs, auc values, and max resp\n",
    "final_drugs = drugs_with_resp_auc_data.iloc[indexes,0]\n",
    "final_drugs\n",
    "\n",
    "final_auc = auc_values.iloc[indexes,:]\n",
    "print(final_auc)\n",
    "\n",
    "final_maxresp = maxresp_values.iloc[indexes,:]\n",
    "print(final_maxresp)"
   ]
  },
  {
   "cell_type": "code",
   "execution_count": 9,
   "metadata": {},
   "outputs": [
    {
     "name": "stderr",
     "output_type": "stream",
     "text": [
      "/Library/Frameworks/Python.framework/Versions/3.7/lib/python3.7/site-packages/ipykernel_launcher.py:3: RuntimeWarning: invalid value encountered in greater_equal\n",
      "  This is separate from the ipykernel package so we can avoid doing imports until\n"
     ]
    }
   ],
   "source": [
    "# fix inf, nan values, and values exceeding the max\n",
    "X[X==np.inf]=np.nan\n",
    "np.where(X.values >= np.finfo(np.float32).max)\n",
    "X = np.nan_to_num(X)"
   ]
  },
  {
   "cell_type": "code",
   "execution_count": 10,
   "metadata": {},
   "outputs": [
    {
     "name": "stdout",
     "output_type": "stream",
     "text": [
      "[0 0 0 0 0 0 0 0 0 0 0 0 0 0 0]\n",
      "[0 0 0 0 0 0 0 0 0 0 0 0 0 0 0]\n",
      "[0 0 0 0 0 0 0 0 0 0 0 0 0 0 0]\n"
     ]
    }
   ],
   "source": [
    "# check data to make sure we got rid of inf, nan, and max values\n",
    "print(sum(np.isnan(X)))\n",
    "print(sum(X > 10000))\n",
    "print(sum(np.isinf(X)))"
   ]
  },
  {
   "cell_type": "code",
   "execution_count": 11,
   "metadata": {},
   "outputs": [
    {
     "name": "stdout",
     "output_type": "stream",
     "text": [
      "[0 0 0 0 0 0]\n"
     ]
    }
   ],
   "source": [
    "# and remove the nans in the auc data frame\n",
    "final_auc = np.nan_to_num(final_auc)\n",
    "print(sum(np.isnan(final_auc)))"
   ]
  },
  {
   "cell_type": "code",
   "execution_count": 12,
   "metadata": {},
   "outputs": [
    {
     "name": "stdout",
     "output_type": "stream",
     "text": [
      "[0 0 0 0 0 0]\n"
     ]
    }
   ],
   "source": [
    "# and remove the nans in the max resp data frame\n",
    "final_maxresp = np.nan_to_num(final_maxresp)\n",
    "print(sum(np.isnan(final_maxresp)))"
   ]
  },
  {
   "cell_type": "code",
   "execution_count": 13,
   "metadata": {},
   "outputs": [
    {
     "name": "stdout",
     "output_type": "stream",
     "text": [
      "0         atom_stereo_count\n",
      "1         bond_stereo_count\n",
      "2                    charge\n",
      "3                complexity\n",
      "4       covalent_unit_count\n",
      "5                exact_mass\n",
      "6     h_bond_acceptor_count\n",
      "7        h_bond_donor_count\n",
      "8          heavy_atom_count\n",
      "9        isotope_atom_count\n",
      "10         molecular_weight\n",
      "11        monoisotopic_mass\n",
      "12       rotable_bond_count\n",
      "13                     tpsa\n",
      "14                    xlogp\n",
      "Name: 0, dtype: object\n"
     ]
    }
   ],
   "source": [
    "# get column names (names of drug features)\n",
    "fts = pd.read_csv('val_names.csv')\n",
    "fts = fts.iloc[:,1]\n",
    "print(fts)"
   ]
  },
  {
   "cell_type": "markdown",
   "metadata": {},
   "source": [
    "# Part 2: Exploration"
   ]
  },
  {
   "cell_type": "code",
   "execution_count": 16,
   "metadata": {},
   "outputs": [
    {
     "name": "stdout",
     "output_type": "stream",
     "text": [
      "[[  1.           0.           0.         734.           1.\n",
      "  344.08960285   7.           3.          25.           0.\n",
      "  344.3        344.08960285   2.         121.           2.1       ]\n",
      " [  1.           0.           0.         633.           1.\n",
      "  354.18310932   4.           1.          26.           0.\n",
      "  354.4        354.18310932   8.          71.4          4.4       ]\n",
      " [  1.           0.           0.         497.           1.\n",
      "  292.12117776   3.           1.          22.           0.\n",
      "  292.3        292.12117776   1.          52.9          2.4       ]\n",
      " [  0.           0.           0.         780.           1.\n",
      "  518.19406792   8.           6.          38.           0.\n",
      "  518.6        518.19406792   5.         156.           6.9       ]\n",
      " [  2.           0.           0.         415.           1.\n",
      "  301.17902699   3.           3.          22.           0.\n",
      "  301.4        301.17902699   2.          68.4          2.3       ]]\n",
      "[[466.491 494.689 477.969 580.252 445.541 490.083]\n",
      " [413.997 261.922 438.649 360.282 417.51  322.348]\n",
      " [473.658 514.225 391.226 472.357 455.033 483.53 ]\n",
      " ...\n",
      " [451.037 486.094 475.552 466.789 444.993 439.958]\n",
      " [458.061 455.433 458.342 468.829 450.086 427.271]\n",
      " [456.794 365.835 477.732 541.092 481.313 475.837]]\n",
      "[[104.528 106.693  94.311 120.259  79.373 105.277]\n",
      " [ 94.854  15.955  91.379  82.129  87.158  66.432]\n",
      " [ 63.828  74.488  49.955 101.986  88.269  92.542]\n",
      " ...\n",
      " [104.88  109.241 111.146 101.299  96.001  95.924]\n",
      " [ 95.284 105.921  95.623  79.961  94.066  89.141]\n",
      " [  6.917  63.743  20.44   71.719  74.518  63.974]]\n",
      "                                                      0\n",
      "0                                          (+)-Usniacin\n",
      "1     (+-)-7-(3,5,6-trimethyl-1,4-benzoquinon-2-yl)-...\n",
      "2                                      (-)-Blebbistatin\n",
      "3                                          (-)-Gossypol\n",
      "4                                      (-)-Indolactam V\n",
      "5                         1-alpha-Hydroxyergocalciferol\n",
      "6                                   10-Deacetylbaccatin\n",
      "7                                10-hydroxycamptothecin\n",
      "8                                              10058-F4\n",
      "9                                              10074-G5\n",
      "10                                  16,16-dimethyl PGE2\n",
      "11                                  17 alpha-propionate\n",
      "12                                17-Methyltestosterone\n",
      "13                                 2',3'-Dideoxyinosine\n",
      "14                                    2-Fluoroadenosine\n",
      "15                                        2-Iminobiotin\n",
      "16                                   2-Methoxyestradiol\n",
      "17                                   20-hydroxyecdysone\n",
      "18                                      3-Bromopyruvate\n",
      "19                                      3-Methyladenine\n",
      "20                                 3-indolebutyric acid\n",
      "21                           4',7-Dihydroxyisoflavanone\n",
      "22                         4-Demethylepipodophyllotoxin\n",
      "23                             4-Hydroxyandrostenedione\n",
      "24                                    4-Quinazolinamine\n",
      "25                                4-methylumbelliferone\n",
      "26                                 5,7-Dihydroxyflavone\n",
      "27                                        5-Azacitidine\n",
      "28                                  5-Hydroxytryptophan\n",
      "29                                     6-mercaptopurine\n",
      "...                                                 ...\n",
      "1754                                          Yohimbine\n",
      "1755                                          ZM-336372\n",
      "1756                                          ZM-447439\n",
      "1757                                           ZSTK-474\n",
      "1758                                        Zafirlukast\n",
      "1759                                        Zalcitabine\n",
      "1760                                  Zaldaride maleate\n",
      "1761                                        Zaltoprofen\n",
      "1762                                          Zanamivir\n",
      "1763                                         Zibotentan\n",
      "1764                                         Zidovudine\n",
      "1765                                           Zileuton\n",
      "1766                                         Zilpaterol\n",
      "1767                          Ziprasidone hydrochloride\n",
      "1768                        Zoledronic acid monohydrate\n",
      "1769                                       Zolmitriptan\n",
      "1770                                         anagrelide\n",
      "1771                                      beta-Carotene\n",
      "1772                                     beta-Estradiol\n",
      "1773                                     beta-Lapachone\n",
      "1774                                    beta-Sitosterol\n",
      "1775                                    c-FMS inhibitor\n",
      "1776                                   cPEPCK inhibitor\n",
      "1777                                      cycloheximide\n",
      "1778                                          l-Taurine\n",
      "1779                                   methyl jasmonate\n",
      "1780                                                NaN\n",
      "1781                                nor-Binaltorphimine\n",
      "1782                                      purmorphamine\n",
      "1783                        rac Nebivolol hydrochloride\n",
      "\n",
      "[1784 rows x 1 columns]\n"
     ]
    }
   ],
   "source": [
    "print(X[0:5,:])\n",
    "print(final_auc)\n",
    "print(final_maxresp)\n",
    "print(drugs)"
   ]
  },
  {
   "cell_type": "code",
   "execution_count": null,
   "metadata": {},
   "outputs": [],
   "source": [
    "plt.scatter(X[:,3], final_auc[:,0], color = 'blue', label = lines[0])\n",
    "plt.scatter(X[:,3], final_auc[:,1], color = 'red', label = lines[1])\n",
    "plt.scatter(X[:,3], final_auc[:,2], color = 'orange', label = lines[2])\n",
    "plt.scatter(X[:,3], final_auc[:,3], color = 'green', label = lines[3])\n",
    "plt.scatter(X[:,3], final_auc[:,4], color = 'purple', label = lines[4])\n",
    "plt.scatter(X[:,3], final_auc[:,5], color = 'pink', label = lines[5])\n",
    "plt.legend()\n",
    "plt.xlabel('Complexity')\n",
    "plt.ylabel('AUC')"
   ]
  },
  {
   "cell_type": "code",
   "execution_count": null,
   "metadata": {},
   "outputs": [],
   "source": []
  },
  {
   "cell_type": "code",
   "execution_count": null,
   "metadata": {},
   "outputs": [],
   "source": []
  },
  {
   "cell_type": "code",
   "execution_count": null,
   "metadata": {
    "scrolled": false
   },
   "outputs": [],
   "source": []
  },
  {
   "cell_type": "code",
   "execution_count": null,
   "metadata": {},
   "outputs": [],
   "source": []
  },
  {
   "cell_type": "code",
   "execution_count": null,
   "metadata": {},
   "outputs": [],
   "source": []
  },
  {
   "cell_type": "code",
   "execution_count": null,
   "metadata": {},
   "outputs": [],
   "source": []
  },
  {
   "cell_type": "code",
   "execution_count": null,
   "metadata": {},
   "outputs": [],
   "source": []
  },
  {
   "cell_type": "code",
   "execution_count": null,
   "metadata": {},
   "outputs": [],
   "source": []
  },
  {
   "cell_type": "code",
   "execution_count": null,
   "metadata": {},
   "outputs": [],
   "source": []
  },
  {
   "cell_type": "code",
   "execution_count": null,
   "metadata": {},
   "outputs": [],
   "source": []
  },
  {
   "cell_type": "code",
   "execution_count": null,
   "metadata": {},
   "outputs": [],
   "source": []
  },
  {
   "cell_type": "code",
   "execution_count": null,
   "metadata": {},
   "outputs": [],
   "source": []
  },
  {
   "cell_type": "code",
   "execution_count": null,
   "metadata": {},
   "outputs": [],
   "source": []
  },
  {
   "cell_type": "code",
   "execution_count": null,
   "metadata": {},
   "outputs": [],
   "source": []
  },
  {
   "cell_type": "code",
   "execution_count": null,
   "metadata": {},
   "outputs": [],
   "source": []
  },
  {
   "cell_type": "code",
   "execution_count": null,
   "metadata": {},
   "outputs": [],
   "source": []
  },
  {
   "cell_type": "code",
   "execution_count": null,
   "metadata": {},
   "outputs": [],
   "source": []
  },
  {
   "cell_type": "code",
   "execution_count": null,
   "metadata": {},
   "outputs": [],
   "source": []
  },
  {
   "cell_type": "code",
   "execution_count": null,
   "metadata": {},
   "outputs": [],
   "source": []
  },
  {
   "cell_type": "code",
   "execution_count": null,
   "metadata": {},
   "outputs": [],
   "source": []
  },
  {
   "cell_type": "code",
   "execution_count": null,
   "metadata": {},
   "outputs": [],
   "source": []
  },
  {
   "cell_type": "code",
   "execution_count": null,
   "metadata": {},
   "outputs": [],
   "source": []
  },
  {
   "cell_type": "code",
   "execution_count": null,
   "metadata": {},
   "outputs": [],
   "source": []
  }
 ],
 "metadata": {
  "kernelspec": {
   "display_name": "Python 3",
   "language": "python",
   "name": "python3"
  },
  "language_info": {
   "codemirror_mode": {
    "name": "ipython",
    "version": 3
   },
   "file_extension": ".py",
   "mimetype": "text/x-python",
   "name": "python",
   "nbconvert_exporter": "python",
   "pygments_lexer": "ipython3",
   "version": "3.7.1"
  }
 },
 "nbformat": 4,
 "nbformat_minor": 2
}
