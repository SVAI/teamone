{
 "cells": [
  {
   "cell_type": "markdown",
   "metadata": {},
   "source": [
    "# Part 0: Import Statements"
   ]
  },
  {
   "cell_type": "code",
   "execution_count": 1,
   "metadata": {},
   "outputs": [
    {
     "name": "stdout",
     "output_type": "stream",
     "text": [
      "TensorFlow 1.13.1\n",
      "Python 3.7.1 (v3.7.1:260ec2c36a, Oct 20 2018, 03:13:28) \n",
      "[Clang 6.0 (clang-600.0.57)]\n"
     ]
    },
    {
     "name": "stderr",
     "output_type": "stream",
     "text": [
      "Using TensorFlow backend.\n"
     ]
    }
   ],
   "source": [
    "# import libraries, set random seed for reproducibility\n",
    "# recommended TensorFlow version >= 1.12.0\n",
    "# recommended Python version >= 3.5\n",
    "\n",
    "# basic imports\n",
    "import os\n",
    "import platform\n",
    "import random\n",
    "import shutil\n",
    "import sys\n",
    "\n",
    "# tensorflow + stats imports\n",
    "import h5py\n",
    "import matplotlib.pyplot as plt\n",
    "import numpy as np\n",
    "import pandas as pd\n",
    "import seaborn as sb\n",
    "import sklearn.metrics\n",
    "import tensorflow as tf\n",
    "from tqdm import tqdm_notebook as tqdm\n",
    "from sklearn.model_selection import train_test_split\n",
    "\n",
    "# keras imports\n",
    "from keras import Sequential\n",
    "from keras.layers import Dense\n",
    "from keras.wrappers.scikit_learn import KerasRegressor\n",
    "\n",
    "random.seed(0)\n",
    "\n",
    "# check versions\n",
    "print(\"TensorFlow\", tf.__version__)\n",
    "print(\"Python\", platform.sys.version)"
   ]
  },
  {
   "cell_type": "markdown",
   "metadata": {},
   "source": [
    "# Part 1: Read in and clean up data"
   ]
  },
  {
   "cell_type": "code",
   "execution_count": 2,
   "metadata": {},
   "outputs": [
    {
     "name": "stdout",
     "output_type": "stream",
     "text": [
      "     0    1    2      3    4           5    6    7     8    9     10  \\\n",
      "0  1.0  0.0  0.0  734.0  1.0  344.089603  7.0  3.0  25.0  0.0  344.3   \n",
      "1  1.0  0.0  0.0  633.0  1.0  354.183109  4.0  1.0  26.0  0.0  354.4   \n",
      "2  1.0  0.0  0.0  497.0  1.0  292.121178  3.0  1.0  22.0  0.0  292.3   \n",
      "3  0.0  0.0  0.0  780.0  1.0  518.194068  8.0  6.0  38.0  0.0  518.6   \n",
      "4  2.0  0.0  0.0  415.0  1.0  301.179027  3.0  3.0  22.0  0.0  301.4   \n",
      "\n",
      "           11   12     13   14  \n",
      "0  344.089603  2.0  121.0  2.1  \n",
      "1  354.183109  8.0   71.4  4.4  \n",
      "2  292.121178  1.0   52.9  2.4  \n",
      "3  518.194068  5.0  156.0  6.9  \n",
      "4  301.179027  2.0   68.4  2.3  \n",
      "1784\n",
      "15\n"
     ]
    }
   ],
   "source": [
    "# read in data and get the size of the data set\n",
    "X = pd.read_csv('drug_properties_final.csv', header=0, usecols=range(1,16))\n",
    "print(X.head(5))\n",
    "nsamples, nfts = X.shape\n",
    "print(nsamples)\n",
    "print(nfts)"
   ]
  },
  {
   "cell_type": "code",
   "execution_count": 3,
   "metadata": {},
   "outputs": [],
   "source": [
    "# get the names of the drugs we are looking at\n",
    "drugs = pd.read_csv('drug_name_list_final.csv', header=0, usecols=range(1,2))\n",
    "#drugs"
   ]
  },
  {
   "cell_type": "code",
   "execution_count": 4,
   "metadata": {},
   "outputs": [],
   "source": [
    "# there are more drugs that have max response and auc data since not all drugs were \n",
    "# accessible in pubchem- so load that bigger set of drugs\n",
    "drugs_with_resp_auc_data = pd.read_csv('drugs.csv', usecols = range(1,2))\n",
    "#drugs_with_resp_auc_data"
   ]
  },
  {
   "cell_type": "code",
   "execution_count": 5,
   "metadata": {},
   "outputs": [],
   "source": [
    "# get the proper indexes from the set of all drugs to map to the pubchem drugs \n",
    "indexes = []\n",
    "counter = 0\n",
    "for drug in drugs_with_resp_auc_data.iloc[:,0]:\n",
    "    if drug in list(drugs.iloc[:,0]):\n",
    "        indexes.append(counter)\n",
    "    counter = counter + 1\n",
    "#indexes"
   ]
  },
  {
   "cell_type": "code",
   "execution_count": 6,
   "metadata": {},
   "outputs": [
    {
     "name": "stdout",
     "output_type": "stream",
     "text": [
      "         0        1        2        3        4        5\n",
      "0  428.792  460.119  277.164  443.183  408.479  408.348\n",
      "1  466.491  494.689  477.969  580.252  445.541  490.083\n",
      "2  413.997  261.922  438.649  360.282  417.510  322.348\n",
      "3  473.658  514.225  391.226  472.357  455.033  483.530\n",
      "4  499.085  454.862  284.317  498.955  490.830  436.067\n",
      "         0        1       2        3       4        5\n",
      "0   31.627   50.723  39.010   62.477  53.749   73.943\n",
      "1  104.528  106.693  94.311  120.259  79.373  105.277\n",
      "2   94.854   15.955  91.379   82.129  87.158   66.432\n",
      "3   63.828   74.488  49.955  101.986  88.269   92.542\n",
      "4    5.796    8.253  14.334   89.583  72.228   47.565\n"
     ]
    }
   ],
   "source": [
    "# get values for auc\n",
    "auc_values = pd.read_csv('auc.csv')\n",
    "auc_values = auc_values.iloc[:,1:7]\n",
    "print(auc_values.head(5))\n",
    "\n",
    "# get values for max resp\n",
    "maxresp_values = pd.read_csv('max_resp.csv')\n",
    "maxresp_values = maxresp_values.iloc[:,1:7]\n",
    "print(maxresp_values.head(5))"
   ]
  },
  {
   "cell_type": "code",
   "execution_count": 7,
   "metadata": {},
   "outputs": [
    {
     "name": "stdout",
     "output_type": "stream",
     "text": [
      "            0        1        2        3        4        5\n",
      "1     466.491  494.689  477.969  580.252  445.541  490.083\n",
      "2     413.997  261.922  438.649  360.282  417.510  322.348\n",
      "3     473.658  514.225  391.226  472.357  455.033  483.530\n",
      "4     499.085  454.862  284.317  498.955  490.830  436.067\n",
      "5     439.192  464.651  441.677  496.490  482.966  438.622\n",
      "6     444.042  507.567  487.697  473.677  337.470  371.668\n",
      "7     453.739  466.528  386.022  412.972  410.137  422.828\n",
      "8     248.701  322.929  362.261  299.505  290.917  273.682\n",
      "9     468.376  456.636  207.428  425.188  439.731  444.202\n",
      "10    479.920  458.372  234.410  453.171  445.012  474.465\n",
      "11    508.541  501.774  476.485  556.192  478.471  528.478\n",
      "12    460.677  481.198  486.335  474.319  432.789  458.532\n",
      "13    558.791  529.796  526.594  572.759  547.693  529.938\n",
      "15    480.426  496.298  475.607  581.248  548.532  409.708\n",
      "18    285.296  321.411  320.884  356.004  298.973  286.425\n",
      "19    471.813  514.940  478.022  561.303  495.328  498.695\n",
      "20    464.425  466.559  458.823  451.238  425.418  422.915\n",
      "21    493.138  488.390  482.273  450.930  449.837  329.544\n",
      "22    507.789  511.357  399.527  458.249  462.799  511.793\n",
      "23    249.042  391.601  246.617  410.454  406.570  518.155\n",
      "24    488.652  514.465  486.311  391.683  481.118  433.896\n",
      "26    551.776  509.135  506.784  521.423  525.736  514.764\n",
      "27    344.194  419.749  261.923  378.841  317.005  283.638\n",
      "28    469.655  493.587  513.039  520.439  492.428  485.417\n",
      "29    530.880  473.149  259.031  531.893  506.595  501.432\n",
      "30    495.816  472.499  453.471  475.209  480.489  481.548\n",
      "31    531.945  467.044  428.649  520.786  536.004  481.480\n",
      "32    482.464  431.985  431.319  480.066  491.739  432.242\n",
      "33    515.136  505.094  497.914  342.380  476.101  457.801\n",
      "34    429.511  441.334  407.635  556.346  420.235  371.642\n",
      "...       ...      ...      ...      ...      ...      ...\n",
      "1875  431.896  487.714  489.293  557.146  485.263  521.578\n",
      "1876  484.263  513.050  437.964  392.816  372.727  441.571\n",
      "1877  466.555  470.025  416.427  490.566  447.432  414.390\n",
      "1878  417.993  281.387  220.936  476.883  438.220  374.896\n",
      "1879  393.811  422.793  407.237  284.158  407.765  332.455\n",
      "1880  434.189  463.128  464.194  438.603  431.918  331.609\n",
      "1881  509.722  467.971  466.576  417.331  445.074  454.388\n",
      "1882  476.023  472.596  465.706  466.006  459.464  436.253\n",
      "1883  483.136  501.815  461.833  455.865  447.498  444.992\n",
      "1884  534.539  515.948  513.254  484.429  470.378  467.469\n",
      "1885  473.961  490.705  489.638  574.090  487.416  299.362\n",
      "1886  499.552  488.387  472.685  488.933  501.672  429.220\n",
      "1887  497.714  521.178  488.750  500.099  430.580  400.146\n",
      "1888  518.135  502.817  500.992  479.871  478.250  440.606\n",
      "1889  521.301  523.443  508.182  498.749  479.551  440.455\n",
      "1890  509.852  467.553  480.373  510.211  498.185  474.507\n",
      "1891  571.867  485.800  495.040  554.251  517.184  545.057\n",
      "1892  510.624  539.194  515.829  559.198  533.291  493.943\n",
      "1893  518.613  473.134  457.797  455.011  443.277  398.264\n",
      "1894  511.656  533.058  415.421  551.065  494.993  490.467\n",
      "1895  495.874  490.260  471.014  494.238  485.051  439.651\n",
      "1896  527.247  483.709  469.452  539.277  515.733  562.196\n",
      "1897  454.960  464.728  444.749  458.450  450.622  370.030\n",
      "1898  407.638  406.537  230.744  488.550  409.117  412.183\n",
      "1899  547.131  513.687  492.816  525.287  509.459  496.810\n",
      "1900  494.093  526.247  488.039  568.761  517.912  553.110\n",
      "1901      NaN      NaN      NaN      NaN      NaN      NaN\n",
      "1902  451.037  486.094  475.552  466.789  444.993  439.958\n",
      "1903  458.061  455.433  458.342  468.829  450.086  427.271\n",
      "1904  456.794  365.835  477.732  541.092  481.313  475.837\n",
      "\n",
      "[1784 rows x 6 columns]\n",
      "            0        1        2        3        4        5\n",
      "1     104.528  106.693   94.311  120.259   79.373  105.277\n",
      "2      94.854   15.955   91.379   82.129   87.158   66.432\n",
      "3      63.828   74.488   49.955  101.986   88.269   92.542\n",
      "4       5.796    8.253   14.334   89.583   72.228   47.565\n",
      "5      90.842  103.573   94.574   83.406  104.852   92.665\n",
      "6      24.866   59.871   41.696   27.641    6.727   10.808\n",
      "7      43.061   66.320   43.485   50.470   45.625   66.328\n",
      "8      12.125   13.910   34.232   26.325   19.924   18.893\n",
      "9      82.218   59.182   15.647   95.492   93.770   95.333\n",
      "10     63.090   64.014   12.650  100.952   96.531   92.651\n",
      "11     86.346   84.898   88.117   87.516   74.786   79.631\n",
      "12    103.639  103.949  108.658   91.037   84.503   98.370\n",
      "13    105.819   87.217   77.246   48.710  110.385  107.234\n",
      "15    104.616  107.339  106.545  117.125  120.934   97.405\n",
      "18     10.864   46.194    4.812   33.114   24.629   24.467\n",
      "19     97.241  105.436   83.701  120.006  104.174  101.999\n",
      "20     51.625   67.846   51.265   46.546   34.587   44.230\n",
      "21     98.479   96.281   96.457   89.892   82.393   64.589\n",
      "22     94.993  102.250   79.429   98.930   93.705  104.253\n",
      "23      5.619   30.249   30.497   33.857   52.163   62.948\n",
      "24     98.229  105.379   94.256   63.562   91.088   79.649\n",
      "26    109.757  105.377   99.145   90.017  101.603   98.191\n",
      "27     44.903   66.228   42.441   65.988   75.577   60.693\n",
      "28     90.876   96.033  102.744  102.480   97.132   96.769\n",
      "29    106.834   97.752   54.059   66.716  112.705   94.871\n",
      "30    100.295  100.406   90.084   84.135   91.146   99.999\n",
      "31     77.161   89.739   96.358  120.742   94.040   87.267\n",
      "32     22.045   38.234   90.490   66.240   66.764   49.085\n",
      "33     99.104  102.024   99.879   50.357   83.083   74.023\n",
      "34     99.872  101.954   33.348  115.766   43.327   59.395\n",
      "...       ...      ...      ...      ...      ...      ...\n",
      "1875  100.170  109.211  101.092  114.692  109.138  101.547\n",
      "1876   41.013   84.906   35.913   12.246   19.792   55.406\n",
      "1877   71.353   84.443   67.234   79.771   72.980   79.021\n",
      "1878   58.784   57.156   25.475   79.693   84.832   61.882\n",
      "1879   10.284   57.618    3.864   35.867   83.656   61.878\n",
      "1880   91.050   99.393  103.726   38.015   95.722   69.268\n",
      "1881   86.575   89.144   83.698   53.279   79.093   86.118\n",
      "1882   99.908  101.590   96.723   32.460   86.217   87.582\n",
      "1883  100.745  107.563  103.813   93.594  101.010   94.192\n",
      "1884  106.516  101.704   95.235   82.600   80.417   81.093\n",
      "1885   96.034  102.758  113.978   88.211  103.393   67.363\n",
      "1886  108.383  101.866   93.638   95.973   97.253   92.516\n",
      "1887   96.814   98.093   97.689   31.299    8.583    5.449\n",
      "1888   92.654   95.641   97.151   87.785   89.946   67.763\n",
      "1889  105.474  105.607  109.215  100.124   98.460   92.450\n",
      "1890   98.781   99.555  101.000   95.637   94.696   80.855\n",
      "1891  101.409   67.009   76.439  105.181   91.585   95.201\n",
      "1892   88.936  103.844   98.361  112.495  100.767   88.660\n",
      "1893   60.100   66.391   47.789   36.551   29.798   17.921\n",
      "1894   28.662   82.472   66.449  109.376   73.404   75.010\n",
      "1895  105.610   94.773   89.011   95.502   99.752   83.418\n",
      "1896  103.877   92.326   92.374  122.244  105.598  112.670\n",
      "1897   94.540   92.098   83.821  107.056   85.110   70.842\n",
      "1898   20.757   32.874   13.156   45.321   31.007   38.145\n",
      "1899  106.506  105.765  103.459   94.452  110.567  112.007\n",
      "1900   98.347  102.490   83.123  101.076  107.955  107.350\n",
      "1901      NaN      NaN      NaN      NaN      NaN      NaN\n",
      "1902  104.880  109.241  111.146  101.299   96.001   95.924\n",
      "1903   95.284  105.921   95.623   79.961   94.066   89.141\n",
      "1904    6.917   63.743   20.440   71.719   74.518   63.974\n",
      "\n",
      "[1784 rows x 6 columns]\n"
     ]
    }
   ],
   "source": [
    "# get the re-indexed set of drugs, auc values, and max resp\n",
    "final_drugs = drugs_with_resp_auc_data.iloc[indexes,0]\n",
    "final_drugs\n",
    "\n",
    "final_auc = auc_values.iloc[indexes,:]\n",
    "print(final_auc)\n",
    "\n",
    "final_maxresp = maxresp_values.iloc[indexes,:]\n",
    "print(final_maxresp)"
   ]
  },
  {
   "cell_type": "code",
   "execution_count": 8,
   "metadata": {},
   "outputs": [
    {
     "name": "stderr",
     "output_type": "stream",
     "text": [
      "/Library/Frameworks/Python.framework/Versions/3.7/lib/python3.7/site-packages/ipykernel_launcher.py:3: RuntimeWarning: invalid value encountered in greater_equal\n",
      "  This is separate from the ipykernel package so we can avoid doing imports until\n"
     ]
    }
   ],
   "source": [
    "# fix inf, nan values, and values exceeding the max\n",
    "X[X==np.inf]=np.nan\n",
    "np.where(X.values >= np.finfo(np.float32).max)\n",
    "X = np.nan_to_num(X)"
   ]
  },
  {
   "cell_type": "code",
   "execution_count": 9,
   "metadata": {},
   "outputs": [
    {
     "name": "stdout",
     "output_type": "stream",
     "text": [
      "[0 0 0 0 0 0 0 0 0 0 0 0 0 0 0]\n",
      "[0 0 0 0 0 0 0 0 0 0 0 0 0 0 0]\n",
      "[0 0 0 0 0 0 0 0 0 0 0 0 0 0 0]\n"
     ]
    }
   ],
   "source": [
    "# check data to make sure we got rid of inf, nan, and max values\n",
    "print(sum(np.isnan(X)))\n",
    "print(sum(X > 10000))\n",
    "print(sum(np.isinf(X)))"
   ]
  },
  {
   "cell_type": "code",
   "execution_count": 10,
   "metadata": {},
   "outputs": [
    {
     "name": "stdout",
     "output_type": "stream",
     "text": [
      "[0 0 0 0 0 0]\n"
     ]
    }
   ],
   "source": [
    "# and remove the nans in the auc data frame\n",
    "final_auc = np.nan_to_num(final_auc)\n",
    "print(sum(np.isnan(final_auc)))"
   ]
  },
  {
   "cell_type": "code",
   "execution_count": 11,
   "metadata": {},
   "outputs": [
    {
     "name": "stdout",
     "output_type": "stream",
     "text": [
      "[0 0 0 0 0 0]\n"
     ]
    }
   ],
   "source": [
    "# and remove the nans in the max resp data frame\n",
    "final_maxresp = np.nan_to_num(final_maxresp)\n",
    "print(sum(np.isnan(final_maxresp)))"
   ]
  },
  {
   "cell_type": "markdown",
   "metadata": {},
   "source": [
    "# Part 2: Prep the MLP for training + testing"
   ]
  },
  {
   "cell_type": "code",
   "execution_count": 12,
   "metadata": {},
   "outputs": [],
   "source": [
    "# Using Skicit-learn to split data into training and testing sets\n",
    "# Split the data into training and testing sets\n",
    "train_ft_auc, test_ft_auc, train_lab_auc, test_lab_auc = train_test_split(X, final_auc, test_size = 0.3, random_state = 0)\n",
    "train_ft_resp, test_ft_resp, train_lab_resp, test_lab_resp = train_test_split(X, final_maxresp, test_size = 0.3, random_state = 0)"
   ]
  },
  {
   "cell_type": "code",
   "execution_count": 13,
   "metadata": {},
   "outputs": [],
   "source": [
    "# code from here\n",
    "# https://medium.com/datadriveninvestor/building-neural-network-using-keras-for-regression-ceee5a9eadff\n",
    "# https://datascienceplus.com/keras-regression-based-neural-networks/"
   ]
  },
  {
   "cell_type": "code",
   "execution_count": 14,
   "metadata": {},
   "outputs": [],
   "source": [
    "# build the regressor model of 15, 10, and 6 units successively\n",
    "def build_regressor():\n",
    "    regressor = Sequential()\n",
    "    regressor.add(Dense(units=15, input_dim=15, kernel_initializer='normal', activation='relu'))\n",
    "    regressor.add(Dense(units=10, activation = 'relu'))\n",
    "    regressor.add(Dense(units=6, activation = 'linear'))\n",
    "    regressor.compile(optimizer='adam', loss='mse',  metrics=['mae', 'mse','accuracy'])\n",
    "    return regressor"
   ]
  },
  {
   "cell_type": "code",
   "execution_count": 15,
   "metadata": {},
   "outputs": [],
   "source": [
    "# set up regressor model\n",
    "regressor = KerasRegressor(build_fn=build_regressor, batch_size=20,epochs=100)"
   ]
  },
  {
   "cell_type": "code",
   "execution_count": 16,
   "metadata": {},
   "outputs": [
    {
     "name": "stdout",
     "output_type": "stream",
     "text": [
      "WARNING:tensorflow:From /Library/Frameworks/Python.framework/Versions/3.7/lib/python3.7/site-packages/tensorflow/python/framework/op_def_library.py:263: colocate_with (from tensorflow.python.framework.ops) is deprecated and will be removed in a future version.\n",
      "Instructions for updating:\n",
      "Colocations handled automatically by placer.\n",
      "WARNING:tensorflow:From /Library/Frameworks/Python.framework/Versions/3.7/lib/python3.7/site-packages/tensorflow/python/ops/math_ops.py:3066: to_int32 (from tensorflow.python.ops.math_ops) is deprecated and will be removed in a future version.\n",
      "Instructions for updating:\n",
      "Use tf.cast instead.\n",
      "Epoch 1/100\n",
      "1248/1248 [==============================] - 0s 155us/step - loss: 136454.9875 - mean_absolute_error: 348.9334 - mean_squared_error: 136454.9875 - acc: 0.0449\n",
      "Epoch 2/100\n",
      "1248/1248 [==============================] - 0s 32us/step - loss: 51351.5032 - mean_absolute_error: 187.8539 - mean_squared_error: 51351.5032 - acc: 0.0385\n",
      "Epoch 3/100\n",
      "1248/1248 [==============================] - 0s 32us/step - loss: 41030.4974 - mean_absolute_error: 159.5162 - mean_squared_error: 41030.4974 - acc: 0.2284\n",
      "Epoch 4/100\n",
      "1248/1248 [==============================] - 0s 33us/step - loss: 39853.1209 - mean_absolute_error: 157.8816 - mean_squared_error: 39853.1209 - acc: 0.4760\n",
      "Epoch 5/100\n",
      "1248/1248 [==============================] - 0s 33us/step - loss: 39388.7519 - mean_absolute_error: 156.4159 - mean_squared_error: 39388.7519 - acc: 0.4696\n",
      "Epoch 6/100\n",
      "1248/1248 [==============================] - 0s 32us/step - loss: 39228.1035 - mean_absolute_error: 155.8750 - mean_squared_error: 39228.1035 - acc: 0.4696\n",
      "Epoch 7/100\n",
      "1248/1248 [==============================] - 0s 34us/step - loss: 38519.8371 - mean_absolute_error: 155.0090 - mean_squared_error: 38519.8371 - acc: 0.4663\n",
      "Epoch 8/100\n",
      "1248/1248 [==============================] - 0s 33us/step - loss: 38013.3592 - mean_absolute_error: 153.8459 - mean_squared_error: 38013.3592 - acc: 0.4511\n",
      "Epoch 9/100\n",
      "1248/1248 [==============================] - 0s 32us/step - loss: 37453.9630 - mean_absolute_error: 153.9948 - mean_squared_error: 37453.9630 - acc: 0.4439\n",
      "Epoch 10/100\n",
      "1248/1248 [==============================] - 0s 32us/step - loss: 36934.5410 - mean_absolute_error: 151.9993 - mean_squared_error: 36934.5410 - acc: 0.4415\n",
      "Epoch 11/100\n",
      "1248/1248 [==============================] - 0s 36us/step - loss: 36274.5663 - mean_absolute_error: 150.7754 - mean_squared_error: 36274.5663 - acc: 0.4383\n",
      "Epoch 12/100\n",
      "1248/1248 [==============================] - 0s 37us/step - loss: 35946.0148 - mean_absolute_error: 150.2027 - mean_squared_error: 35946.0148 - acc: 0.4279\n",
      "Epoch 13/100\n",
      "1248/1248 [==============================] - 0s 34us/step - loss: 35327.9856 - mean_absolute_error: 149.9556 - mean_squared_error: 35327.9856 - acc: 0.4247\n",
      "Epoch 14/100\n",
      "1248/1248 [==============================] - 0s 33us/step - loss: 34866.5679 - mean_absolute_error: 147.1264 - mean_squared_error: 34866.5679 - acc: 0.4199\n",
      "Epoch 15/100\n",
      "1248/1248 [==============================] - 0s 32us/step - loss: 34373.9420 - mean_absolute_error: 147.3499 - mean_squared_error: 34373.9420 - acc: 0.4175\n",
      "Epoch 16/100\n",
      "1248/1248 [==============================] - 0s 32us/step - loss: 34004.1431 - mean_absolute_error: 146.4001 - mean_squared_error: 34004.1431 - acc: 0.4111\n",
      "Epoch 17/100\n",
      "1248/1248 [==============================] - 0s 32us/step - loss: 33584.7965 - mean_absolute_error: 146.3641 - mean_squared_error: 33584.7965 - acc: 0.4199\n",
      "Epoch 18/100\n",
      "1248/1248 [==============================] - 0s 33us/step - loss: 33006.5389 - mean_absolute_error: 144.0396 - mean_squared_error: 33006.5389 - acc: 0.3846\n",
      "Epoch 19/100\n",
      "1248/1248 [==============================] - 0s 32us/step - loss: 32708.8479 - mean_absolute_error: 143.7980 - mean_squared_error: 32708.8479 - acc: 0.3918\n",
      "Epoch 20/100\n",
      "1248/1248 [==============================] - 0s 33us/step - loss: 32291.6663 - mean_absolute_error: 143.2976 - mean_squared_error: 32291.6663 - acc: 0.4063\n",
      "Epoch 21/100\n",
      "1248/1248 [==============================] - 0s 32us/step - loss: 32192.6843 - mean_absolute_error: 142.0446 - mean_squared_error: 32192.6843 - acc: 0.4095\n",
      "Epoch 22/100\n",
      "1248/1248 [==============================] - 0s 32us/step - loss: 31707.3597 - mean_absolute_error: 141.9931 - mean_squared_error: 31707.3597 - acc: 0.3998\n",
      "Epoch 23/100\n",
      "1248/1248 [==============================] - 0s 32us/step - loss: 31587.3229 - mean_absolute_error: 141.7400 - mean_squared_error: 31587.3229 - acc: 0.4119\n",
      "Epoch 24/100\n",
      "1248/1248 [==============================] - 0s 31us/step - loss: 31196.4178 - mean_absolute_error: 141.0849 - mean_squared_error: 31196.4178 - acc: 0.4046\n",
      "Epoch 25/100\n",
      "1248/1248 [==============================] - 0s 34us/step - loss: 31391.8653 - mean_absolute_error: 140.3485 - mean_squared_error: 31391.8653 - acc: 0.4311\n",
      "Epoch 26/100\n",
      "1248/1248 [==============================] - 0s 32us/step - loss: 30515.8733 - mean_absolute_error: 139.5116 - mean_squared_error: 30515.8733 - acc: 0.4279\n",
      "Epoch 27/100\n",
      "1248/1248 [==============================] - 0s 32us/step - loss: 30819.2964 - mean_absolute_error: 138.6847 - mean_squared_error: 30819.2964 - acc: 0.4271\n",
      "Epoch 28/100\n",
      "1248/1248 [==============================] - 0s 33us/step - loss: 30476.6365 - mean_absolute_error: 139.8170 - mean_squared_error: 30476.6365 - acc: 0.4367\n",
      "Epoch 29/100\n",
      "1248/1248 [==============================] - 0s 34us/step - loss: 30427.6100 - mean_absolute_error: 138.6446 - mean_squared_error: 30427.6100 - acc: 0.4423\n",
      "Epoch 30/100\n",
      "1248/1248 [==============================] - 0s 35us/step - loss: 30144.7110 - mean_absolute_error: 138.5857 - mean_squared_error: 30144.7110 - acc: 0.4359\n",
      "Epoch 31/100\n",
      "1248/1248 [==============================] - 0s 36us/step - loss: 30019.9077 - mean_absolute_error: 137.3053 - mean_squared_error: 30019.9077 - acc: 0.4431\n",
      "Epoch 32/100\n",
      "1248/1248 [==============================] - 0s 33us/step - loss: 29875.5479 - mean_absolute_error: 137.2048 - mean_squared_error: 29875.5479 - acc: 0.4551\n",
      "Epoch 33/100\n",
      "1248/1248 [==============================] - 0s 32us/step - loss: 29716.5607 - mean_absolute_error: 137.7162 - mean_squared_error: 29716.5607 - acc: 0.4399\n",
      "Epoch 34/100\n",
      "1248/1248 [==============================] - 0s 33us/step - loss: 29568.4409 - mean_absolute_error: 136.1871 - mean_squared_error: 29568.4409 - acc: 0.4551\n",
      "Epoch 35/100\n",
      "1248/1248 [==============================] - 0s 32us/step - loss: 29538.4627 - mean_absolute_error: 137.2165 - mean_squared_error: 29538.4627 - acc: 0.4487\n",
      "Epoch 36/100\n",
      "1248/1248 [==============================] - 0s 32us/step - loss: 29222.5996 - mean_absolute_error: 135.9349 - mean_squared_error: 29222.5996 - acc: 0.4487\n",
      "Epoch 37/100\n",
      "1248/1248 [==============================] - 0s 32us/step - loss: 28980.1589 - mean_absolute_error: 135.4749 - mean_squared_error: 28980.1589 - acc: 0.4535\n",
      "Epoch 38/100\n",
      "1248/1248 [==============================] - 0s 32us/step - loss: 28964.9293 - mean_absolute_error: 135.2355 - mean_squared_error: 28964.9293 - acc: 0.4471\n",
      "Epoch 39/100\n",
      "1248/1248 [==============================] - 0s 31us/step - loss: 28667.3655 - mean_absolute_error: 134.9793 - mean_squared_error: 28667.3655 - acc: 0.4559\n",
      "Epoch 40/100\n",
      "1248/1248 [==============================] - 0s 34us/step - loss: 28770.2529 - mean_absolute_error: 134.6879 - mean_squared_error: 28770.2529 - acc: 0.4551\n",
      "Epoch 41/100\n",
      "1248/1248 [==============================] - 0s 37us/step - loss: 28742.3207 - mean_absolute_error: 134.8440 - mean_squared_error: 28742.3207 - acc: 0.4615\n",
      "Epoch 42/100\n",
      "1248/1248 [==============================] - 0s 34us/step - loss: 28223.5861 - mean_absolute_error: 134.3092 - mean_squared_error: 28223.5861 - acc: 0.4591\n",
      "Epoch 43/100\n",
      "1248/1248 [==============================] - 0s 32us/step - loss: 28379.1902 - mean_absolute_error: 135.0002 - mean_squared_error: 28379.1902 - acc: 0.4607\n",
      "Epoch 44/100\n",
      "1248/1248 [==============================] - 0s 33us/step - loss: 28018.4673 - mean_absolute_error: 133.2880 - mean_squared_error: 28018.4673 - acc: 0.4679\n",
      "Epoch 45/100\n"
     ]
    },
    {
     "name": "stdout",
     "output_type": "stream",
     "text": [
      "1248/1248 [==============================] - 0s 33us/step - loss: 27774.1500 - mean_absolute_error: 133.0695 - mean_squared_error: 27774.1500 - acc: 0.4663\n",
      "Epoch 46/100\n",
      "1248/1248 [==============================] - 0s 31us/step - loss: 27675.2844 - mean_absolute_error: 132.8578 - mean_squared_error: 27675.2844 - acc: 0.4663\n",
      "Epoch 47/100\n",
      "1248/1248 [==============================] - 0s 31us/step - loss: 27700.1168 - mean_absolute_error: 133.3851 - mean_squared_error: 27700.1168 - acc: 0.4647\n",
      "Epoch 48/100\n",
      "1248/1248 [==============================] - 0s 31us/step - loss: 27570.6080 - mean_absolute_error: 133.0675 - mean_squared_error: 27570.6080 - acc: 0.4647\n",
      "Epoch 49/100\n",
      "1248/1248 [==============================] - 0s 32us/step - loss: 27450.2184 - mean_absolute_error: 132.5525 - mean_squared_error: 27450.2184 - acc: 0.4631\n",
      "Epoch 50/100\n",
      "1248/1248 [==============================] - 0s 31us/step - loss: 27332.7289 - mean_absolute_error: 131.4010 - mean_squared_error: 27332.7289 - acc: 0.4591\n",
      "Epoch 51/100\n",
      "1248/1248 [==============================] - 0s 31us/step - loss: 26815.8879 - mean_absolute_error: 131.6841 - mean_squared_error: 26815.8879 - acc: 0.4631\n",
      "Epoch 52/100\n",
      "1248/1248 [==============================] - 0s 32us/step - loss: 27023.2439 - mean_absolute_error: 131.9613 - mean_squared_error: 27023.2439 - acc: 0.4623\n",
      "Epoch 53/100\n",
      "1248/1248 [==============================] - 0s 33us/step - loss: 26483.2567 - mean_absolute_error: 130.4259 - mean_squared_error: 26483.2567 - acc: 0.4607\n",
      "Epoch 54/100\n",
      "1248/1248 [==============================] - 0s 32us/step - loss: 26372.6108 - mean_absolute_error: 130.1204 - mean_squared_error: 26372.6108 - acc: 0.4623\n",
      "Epoch 55/100\n",
      "1248/1248 [==============================] - 0s 32us/step - loss: 26250.5858 - mean_absolute_error: 130.1542 - mean_squared_error: 26250.5858 - acc: 0.4567\n",
      "Epoch 56/100\n",
      "1248/1248 [==============================] - 0s 31us/step - loss: 26343.0499 - mean_absolute_error: 130.2140 - mean_squared_error: 26343.0499 - acc: 0.4848\n",
      "Epoch 57/100\n",
      "1248/1248 [==============================] - 0s 31us/step - loss: 25869.9328 - mean_absolute_error: 128.7999 - mean_squared_error: 25869.9328 - acc: 0.4800\n",
      "Epoch 58/100\n",
      "1248/1248 [==============================] - 0s 32us/step - loss: 26047.6143 - mean_absolute_error: 129.9473 - mean_squared_error: 26047.6143 - acc: 0.4944\n",
      "Epoch 59/100\n",
      "1248/1248 [==============================] - 0s 32us/step - loss: 25804.0742 - mean_absolute_error: 128.9869 - mean_squared_error: 25804.0742 - acc: 0.4904\n",
      "Epoch 60/100\n",
      "1248/1248 [==============================] - 0s 32us/step - loss: 25418.4411 - mean_absolute_error: 128.9115 - mean_squared_error: 25418.4411 - acc: 0.4928\n",
      "Epoch 61/100\n",
      "1248/1248 [==============================] - 0s 32us/step - loss: 25400.1171 - mean_absolute_error: 127.9104 - mean_squared_error: 25400.1171 - acc: 0.4944\n",
      "Epoch 62/100\n",
      "1248/1248 [==============================] - 0s 32us/step - loss: 25262.7673 - mean_absolute_error: 127.8767 - mean_squared_error: 25262.7673 - acc: 0.4952\n",
      "Epoch 63/100\n",
      "1248/1248 [==============================] - 0s 33us/step - loss: 25020.5061 - mean_absolute_error: 127.4489 - mean_squared_error: 25020.5061 - acc: 0.4920\n",
      "Epoch 64/100\n",
      "1248/1248 [==============================] - 0s 32us/step - loss: 24803.8366 - mean_absolute_error: 126.9876 - mean_squared_error: 24803.8366 - acc: 0.4872\n",
      "Epoch 65/100\n",
      "1248/1248 [==============================] - 0s 31us/step - loss: 24729.4649 - mean_absolute_error: 127.0510 - mean_squared_error: 24729.4649 - acc: 0.4920\n",
      "Epoch 66/100\n",
      "1248/1248 [==============================] - 0s 31us/step - loss: 24625.6329 - mean_absolute_error: 126.3319 - mean_squared_error: 24625.6329 - acc: 0.4912\n",
      "Epoch 67/100\n",
      "1248/1248 [==============================] - 0s 33us/step - loss: 24414.9617 - mean_absolute_error: 125.5518 - mean_squared_error: 24414.9617 - acc: 0.4944\n",
      "Epoch 68/100\n",
      "1248/1248 [==============================] - 0s 31us/step - loss: 23917.4859 - mean_absolute_error: 125.6208 - mean_squared_error: 23917.4859 - acc: 0.4912\n",
      "Epoch 69/100\n",
      "1248/1248 [==============================] - 0s 33us/step - loss: 24251.7610 - mean_absolute_error: 125.7779 - mean_squared_error: 24251.7610 - acc: 0.4944\n",
      "Epoch 70/100\n",
      "1248/1248 [==============================] - 0s 31us/step - loss: 23847.6151 - mean_absolute_error: 124.0669 - mean_squared_error: 23847.6151 - acc: 0.4936\n",
      "Epoch 71/100\n",
      "1248/1248 [==============================] - 0s 32us/step - loss: 23893.4317 - mean_absolute_error: 125.0858 - mean_squared_error: 23893.4317 - acc: 0.4912\n",
      "Epoch 72/100\n",
      "1248/1248 [==============================] - 0s 33us/step - loss: 24054.4224 - mean_absolute_error: 124.9131 - mean_squared_error: 24054.4224 - acc: 0.4936\n",
      "Epoch 73/100\n",
      "1248/1248 [==============================] - 0s 31us/step - loss: 23276.3171 - mean_absolute_error: 123.2922 - mean_squared_error: 23276.3171 - acc: 0.4968\n",
      "Epoch 74/100\n",
      "1248/1248 [==============================] - 0s 32us/step - loss: 23311.9491 - mean_absolute_error: 122.7568 - mean_squared_error: 23311.9491 - acc: 0.4936\n",
      "Epoch 75/100\n",
      "1248/1248 [==============================] - 0s 33us/step - loss: 23021.0196 - mean_absolute_error: 122.5362 - mean_squared_error: 23021.0196 - acc: 0.4872\n",
      "Epoch 76/100\n",
      "1248/1248 [==============================] - 0s 32us/step - loss: 22711.8777 - mean_absolute_error: 121.5624 - mean_squared_error: 22711.8777 - acc: 0.4920\n",
      "Epoch 77/100\n",
      "1248/1248 [==============================] - 0s 32us/step - loss: 22726.7563 - mean_absolute_error: 121.3548 - mean_squared_error: 22726.7563 - acc: 0.4904\n",
      "Epoch 78/100\n",
      "1248/1248 [==============================] - 0s 34us/step - loss: 22771.1679 - mean_absolute_error: 121.0654 - mean_squared_error: 22771.1679 - acc: 0.4920\n",
      "Epoch 79/100\n",
      "1248/1248 [==============================] - 0s 32us/step - loss: 22638.3047 - mean_absolute_error: 121.3329 - mean_squared_error: 22638.3047 - acc: 0.4912\n",
      "Epoch 80/100\n",
      "1248/1248 [==============================] - 0s 33us/step - loss: 22107.3551 - mean_absolute_error: 119.6682 - mean_squared_error: 22107.3551 - acc: 0.4936\n",
      "Epoch 81/100\n",
      "1248/1248 [==============================] - 0s 32us/step - loss: 22356.5718 - mean_absolute_error: 120.7646 - mean_squared_error: 22356.5718 - acc: 0.4960\n",
      "Epoch 82/100\n",
      "1248/1248 [==============================] - 0s 31us/step - loss: 22010.3015 - mean_absolute_error: 118.7312 - mean_squared_error: 22010.3015 - acc: 0.4936\n",
      "Epoch 83/100\n",
      "1248/1248 [==============================] - 0s 31us/step - loss: 21720.7246 - mean_absolute_error: 119.0088 - mean_squared_error: 21720.7246 - acc: 0.4912\n",
      "Epoch 84/100\n",
      "1248/1248 [==============================] - 0s 32us/step - loss: 21712.6193 - mean_absolute_error: 118.5203 - mean_squared_error: 21712.6193 - acc: 0.4944\n",
      "Epoch 85/100\n",
      "1248/1248 [==============================] - 0s 32us/step - loss: 21726.4807 - mean_absolute_error: 119.0123 - mean_squared_error: 21726.4807 - acc: 0.4928\n",
      "Epoch 86/100\n",
      "1248/1248 [==============================] - 0s 32us/step - loss: 22032.0061 - mean_absolute_error: 120.0570 - mean_squared_error: 22032.0061 - acc: 0.4904\n",
      "Epoch 87/100\n",
      "1248/1248 [==============================] - 0s 32us/step - loss: 21381.5990 - mean_absolute_error: 117.0653 - mean_squared_error: 21381.5990 - acc: 0.4936\n",
      "Epoch 88/100\n",
      "1248/1248 [==============================] - 0s 32us/step - loss: 21084.5131 - mean_absolute_error: 116.6641 - mean_squared_error: 21084.5131 - acc: 0.4960\n",
      "Epoch 89/100\n",
      "1248/1248 [==============================] - 0s 31us/step - loss: 20879.4803 - mean_absolute_error: 116.1010 - mean_squared_error: 20879.4803 - acc: 0.4936\n",
      "Epoch 90/100\n",
      "1248/1248 [==============================] - 0s 32us/step - loss: 20811.6659 - mean_absolute_error: 116.3453 - mean_squared_error: 20811.6659 - acc: 0.4920\n",
      "Epoch 91/100\n",
      "1248/1248 [==============================] - 0s 33us/step - loss: 20782.5476 - mean_absolute_error: 115.9983 - mean_squared_error: 20782.5476 - acc: 0.4944\n",
      "Epoch 92/100\n",
      "1248/1248 [==============================] - 0s 33us/step - loss: 20473.3614 - mean_absolute_error: 115.2063 - mean_squared_error: 20473.3614 - acc: 0.4936\n",
      "Epoch 93/100\n"
     ]
    },
    {
     "name": "stdout",
     "output_type": "stream",
     "text": [
      "1248/1248 [==============================] - 0s 32us/step - loss: 20470.5969 - mean_absolute_error: 115.5139 - mean_squared_error: 20470.5969 - acc: 0.4912\n",
      "Epoch 94/100\n",
      "1248/1248 [==============================] - 0s 32us/step - loss: 20337.5720 - mean_absolute_error: 114.5735 - mean_squared_error: 20337.5720 - acc: 0.4928\n",
      "Epoch 95/100\n",
      "1248/1248 [==============================] - 0s 31us/step - loss: 20123.6893 - mean_absolute_error: 114.2808 - mean_squared_error: 20123.6893 - acc: 0.4936\n",
      "Epoch 96/100\n",
      "1248/1248 [==============================] - 0s 34us/step - loss: 19924.6070 - mean_absolute_error: 113.3018 - mean_squared_error: 19924.6070 - acc: 0.4944\n",
      "Epoch 97/100\n",
      "1248/1248 [==============================] - 0s 32us/step - loss: 20011.4141 - mean_absolute_error: 113.2123 - mean_squared_error: 20011.4141 - acc: 0.4960\n",
      "Epoch 98/100\n",
      "1248/1248 [==============================] - 0s 31us/step - loss: 19489.4722 - mean_absolute_error: 112.6016 - mean_squared_error: 19489.4722 - acc: 0.4952\n",
      "Epoch 99/100\n",
      "1248/1248 [==============================] - 0s 32us/step - loss: 19389.3799 - mean_absolute_error: 111.5900 - mean_squared_error: 19389.3799 - acc: 0.4952\n",
      "Epoch 100/100\n",
      "1248/1248 [==============================] - 0s 32us/step - loss: 19100.7994 - mean_absolute_error: 110.8879 - mean_squared_error: 19100.7994 - acc: 0.4944\n"
     ]
    }
   ],
   "source": [
    "# train the regressor model- accuracy should increase and MSE should decrease\n",
    "results=regressor.fit(train_ft_auc,train_lab_auc)"
   ]
  },
  {
   "cell_type": "markdown",
   "metadata": {},
   "source": [
    "# Part 3: Evaluate the prediction of the model"
   ]
  },
  {
   "cell_type": "code",
   "execution_count": 17,
   "metadata": {},
   "outputs": [],
   "source": [
    "# get predicted value\n",
    "y_pred= regressor.predict(test_ft_auc)"
   ]
  },
  {
   "cell_type": "code",
   "execution_count": 18,
   "metadata": {},
   "outputs": [
    {
     "data": {
      "image/png": "[encoded data removed]",
      "text/plain": [
       "<Figure size 432x288 with 1 Axes>"
      ]
     },
     "metadata": {
      "needs_background": "light"
     },
     "output_type": "display_data"
    }
   ],
   "source": [
    "# plot measured vs predicted values\n",
    "fig, ax = plt.subplots()\n",
    "ax.scatter(test_lab_auc, y_pred)\n",
    "ax.plot([test_lab_auc.min(), test_lab_auc.max()], [test_lab_auc.min(), test_lab_auc.max()], 'k--', lw=4)\n",
    "ax.set_xlabel('Measured')\n",
    "ax.set_ylabel('Predicted')\n",
    "plt.show()"
   ]
  },
  {
   "cell_type": "code",
   "execution_count": 19,
   "metadata": {},
   "outputs": [
    {
     "data": {
      "image/png": "[encoded data removed]",
      "text/plain": [
       "<Figure size 432x288 with 1 Axes>"
      ]
     },
     "metadata": {
      "needs_background": "light"
     },
     "output_type": "display_data"
    }
   ],
   "source": [
    "# plot loss over time\n",
    "loss = results.history['loss']\n",
    "plt.figure()\n",
    "plt.plot(loss)\n",
    "plt.xlabel('Epochs')\n",
    "plt.ylabel('Loss')\n",
    "plt.show()"
   ]
  },
  {
   "cell_type": "code",
   "execution_count": 20,
   "metadata": {},
   "outputs": [
    {
     "data": {
      "image/png": "[encoded data removed]",
      "text/plain": [
       "<Figure size 432x288 with 1 Axes>"
      ]
     },
     "metadata": {
      "needs_background": "light"
     },
     "output_type": "display_data"
    }
   ],
   "source": [
    "# plot accuracy over time\n",
    "acc = results.history['acc']\n",
    "plt.figure()\n",
    "plt.plot(acc)\n",
    "plt.ylabel('Accuracy')\n",
    "plt.xlabel('Epochs')\n",
    "plt.show()"
   ]
  },
  {
   "cell_type": "code",
   "execution_count": null,
   "metadata": {},
   "outputs": [],
   "source": []
  }
 ],
 "metadata": {
  "kernelspec": {
   "display_name": "Python 3",
   "language": "python",
   "name": "python3"
  },
  "language_info": {
   "codemirror_mode": {
    "name": "ipython",
    "version": 3
   },
   "file_extension": ".py",
   "mimetype": "text/x-python",
   "name": "python",
   "nbconvert_exporter": "python",
   "pygments_lexer": "ipython3",
   "version": "3.7.1"
  }
 },
 "nbformat": 4,
 "nbformat_minor": 2
}
